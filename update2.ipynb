{
 "cells": [
  {
   "cell_type": "markdown",
   "metadata": {},
   "source": [
    "# 1. Import packages and load dataset\n",
    "\n"
   ]
  },
  {
   "cell_type": "code",
   "execution_count": 1,
   "metadata": {},
   "outputs": [],
   "source": [
    "import geostatspy.GSLIB as GSLIB          # GSLIB utilies, visualization and wrapper\n",
    "import geostatspy.geostats as geostats    # GSLIB methods convert to Python      \n",
    "import numpy as np                        # ndarrys for gridded data\n",
    "import pandas as pd                       # DataFrames for tabular data\n",
    "import os                                 # set working directory, run executables\n",
    "import matplotlib.pyplot as plt           # for plotting\n",
    "from scipy import stats                   # summary statistics\n",
    "import random\n",
    "import math"
   ]
  },
  {
   "cell_type": "code",
   "execution_count": 2,
   "metadata": {},
   "outputs": [],
   "source": [
    "df = pd.read_csv('8_sample_data.csv')     # load our data table"
   ]
  },
  {
   "cell_type": "markdown",
   "metadata": {},
   "source": [
    "Plotting parameters"
   ]
  },
  {
   "cell_type": "code",
   "execution_count": 8,
   "metadata": {},
   "outputs": [],
   "source": [
    "pormin = 0.05; pormax = 0.25\n",
    "permmin = 0.01; permmax = 1000;                # user specified min and max\n",
    "AImin = 1000.0; AImax = 6000\n",
    "Fmin = 0; Fmax = 1\n",
    "\n",
    "xmin = 0.0; xmax = 1000.0               # range of x values\n",
    "ymin = 0.0; ymax = 1000.0               # range of y values\n",
    "pormin = 0.05; pormax = 0.25\n",
    "permmin = 0.01; permmax = 300;                # user specified min and max\n",
    "AImin = 1000.0; AImax = 6000\n",
    "Fmin = 0; Fmax = 1\n",
    "cmap = plt.cm.plasma                    # color map"
   ]
  },
  {
   "cell_type": "markdown",
   "metadata": {},
   "source": [
    "# 2. Declustering"
   ]
  },
  {
   "cell_type": "code",
   "execution_count": 6,
   "metadata": {},
   "outputs": [
    {
     "name": "stdout",
     "output_type": "stream",
     "text": [
      "declustering porosity:\n",
      "There are 168 data with:\n",
      "   mean of      0.15391629523632155 \n",
      "   min and max  0.0808837694350806 and 0.2494536799448483\n",
      "   standard dev 0.033906041125275496 \n",
      "\n",
      "declustering permeability:\n",
      "There are 168 data with:\n",
      "   mean of      77.40357185885863 \n",
      "   min and max  0.046707210006564456 and 2056.7291327432786\n",
      "   standard dev 202.3448434205727 \n",
      "\n",
      "declustering AI:\n",
      "There are 168 data with:\n",
      "   mean of      3396.279944373145 \n",
      "   min and max  1189.8579070757687 and 5186.2913136919315\n",
      "   standard dev 746.759421225971 \n"
     ]
    },
    {
     "data": {
      "text/html": [
       "<div>\n",
       "<style scoped>\n",
       "    .dataframe tbody tr th:only-of-type {\n",
       "        vertical-align: middle;\n",
       "    }\n",
       "\n",
       "    .dataframe tbody tr th {\n",
       "        vertical-align: top;\n",
       "    }\n",
       "\n",
       "    .dataframe thead th {\n",
       "        text-align: right;\n",
       "    }\n",
       "</style>\n",
       "<table border=\"1\" class=\"dataframe\">\n",
       "  <thead>\n",
       "    <tr style=\"text-align: right;\">\n",
       "      <th></th>\n",
       "      <th>Unnamed: 0</th>\n",
       "      <th>X</th>\n",
       "      <th>Y</th>\n",
       "      <th>Facies</th>\n",
       "      <th>Porosity</th>\n",
       "      <th>Perm</th>\n",
       "      <th>AI</th>\n",
       "      <th>Wts_porosity</th>\n",
       "      <th>Wts_perm</th>\n",
       "      <th>Wts_AI</th>\n",
       "    </tr>\n",
       "  </thead>\n",
       "  <tbody>\n",
       "    <tr>\n",
       "      <th>count</th>\n",
       "      <td>168.000000</td>\n",
       "      <td>168.000000</td>\n",
       "      <td>168.00000</td>\n",
       "      <td>168.000000</td>\n",
       "      <td>168.000000</td>\n",
       "      <td>168.000000</td>\n",
       "      <td>168.000000</td>\n",
       "      <td>168.000000</td>\n",
       "      <td>168.000000</td>\n",
       "      <td>168.000000</td>\n",
       "    </tr>\n",
       "    <tr>\n",
       "      <th>mean</th>\n",
       "      <td>207.767857</td>\n",
       "      <td>514.345238</td>\n",
       "      <td>465.87500</td>\n",
       "      <td>0.666667</td>\n",
       "      <td>0.153916</td>\n",
       "      <td>77.403572</td>\n",
       "      <td>3396.279944</td>\n",
       "      <td>1.000000</td>\n",
       "      <td>1.000000</td>\n",
       "      <td>1.000000</td>\n",
       "    </tr>\n",
       "    <tr>\n",
       "      <th>std</th>\n",
       "      <td>114.277788</td>\n",
       "      <td>290.006483</td>\n",
       "      <td>286.99991</td>\n",
       "      <td>0.472814</td>\n",
       "      <td>0.034007</td>\n",
       "      <td>202.949762</td>\n",
       "      <td>748.991891</td>\n",
       "      <td>0.647128</td>\n",
       "      <td>0.609475</td>\n",
       "      <td>0.049482</td>\n",
       "    </tr>\n",
       "    <tr>\n",
       "      <th>min</th>\n",
       "      <td>3.000000</td>\n",
       "      <td>0.000000</td>\n",
       "      <td>20.00000</td>\n",
       "      <td>0.000000</td>\n",
       "      <td>0.080884</td>\n",
       "      <td>0.046707</td>\n",
       "      <td>1189.857907</td>\n",
       "      <td>0.440571</td>\n",
       "      <td>0.506728</td>\n",
       "      <td>0.553293</td>\n",
       "    </tr>\n",
       "    <tr>\n",
       "      <th>25%</th>\n",
       "      <td>104.000000</td>\n",
       "      <td>260.000000</td>\n",
       "      <td>209.00000</td>\n",
       "      <td>0.000000</td>\n",
       "      <td>0.130374</td>\n",
       "      <td>2.889615</td>\n",
       "      <td>2923.281779</td>\n",
       "      <td>0.653528</td>\n",
       "      <td>0.635996</td>\n",
       "      <td>1.005988</td>\n",
       "    </tr>\n",
       "    <tr>\n",
       "      <th>50%</th>\n",
       "      <td>216.500000</td>\n",
       "      <td>490.000000</td>\n",
       "      <td>439.50000</td>\n",
       "      <td>1.000000</td>\n",
       "      <td>0.150119</td>\n",
       "      <td>12.088688</td>\n",
       "      <td>3456.145034</td>\n",
       "      <td>0.830125</td>\n",
       "      <td>0.771369</td>\n",
       "      <td>1.005988</td>\n",
       "    </tr>\n",
       "    <tr>\n",
       "      <th>75%</th>\n",
       "      <td>306.750000</td>\n",
       "      <td>780.000000</td>\n",
       "      <td>729.00000</td>\n",
       "      <td>1.000000</td>\n",
       "      <td>0.177243</td>\n",
       "      <td>65.522793</td>\n",
       "      <td>3957.836990</td>\n",
       "      <td>1.127196</td>\n",
       "      <td>1.110217</td>\n",
       "      <td>1.005988</td>\n",
       "    </tr>\n",
       "    <tr>\n",
       "      <th>max</th>\n",
       "      <td>381.000000</td>\n",
       "      <td>990.000000</td>\n",
       "      <td>979.00000</td>\n",
       "      <td>1.000000</td>\n",
       "      <td>0.249454</td>\n",
       "      <td>2056.729133</td>\n",
       "      <td>5186.291314</td>\n",
       "      <td>6.718435</td>\n",
       "      <td>4.120423</td>\n",
       "      <td>1.005988</td>\n",
       "    </tr>\n",
       "  </tbody>\n",
       "</table>\n",
       "</div>"
      ],
      "text/plain": [
       "       Unnamed: 0           X          Y      Facies    Porosity         Perm  \\\n",
       "count  168.000000  168.000000  168.00000  168.000000  168.000000   168.000000   \n",
       "mean   207.767857  514.345238  465.87500    0.666667    0.153916    77.403572   \n",
       "std    114.277788  290.006483  286.99991    0.472814    0.034007   202.949762   \n",
       "min      3.000000    0.000000   20.00000    0.000000    0.080884     0.046707   \n",
       "25%    104.000000  260.000000  209.00000    0.000000    0.130374     2.889615   \n",
       "50%    216.500000  490.000000  439.50000    1.000000    0.150119    12.088688   \n",
       "75%    306.750000  780.000000  729.00000    1.000000    0.177243    65.522793   \n",
       "max    381.000000  990.000000  979.00000    1.000000    0.249454  2056.729133   \n",
       "\n",
       "                AI  Wts_porosity    Wts_perm      Wts_AI  \n",
       "count   168.000000    168.000000  168.000000  168.000000  \n",
       "mean   3396.279944      1.000000    1.000000    1.000000  \n",
       "std     748.991891      0.647128    0.609475    0.049482  \n",
       "min    1189.857907      0.440571    0.506728    0.553293  \n",
       "25%    2923.281779      0.653528    0.635996    1.005988  \n",
       "50%    3456.145034      0.830125    0.771369    1.005988  \n",
       "75%    3957.836990      1.127196    1.110217    1.005988  \n",
       "max    5186.291314      6.718435    4.120423    1.005988  "
      ]
     },
     "execution_count": 6,
     "metadata": {},
     "output_type": "execute_result"
    }
   ],
   "source": [
    "print(\"declustering porosity:\")\n",
    "wts_porosity, cell_sizes, dmeans = geostats.declus(df,'X','Y','Porosity',iminmax = 1, noff= 10, ncell=100,cmin=10,cmax=2000)\n",
    "df['Wts_porosity'] = wts_porosity # add weights to the sample data DataFrame\n",
    "print(\"\\ndeclustering permeability:\")\n",
    "wts_perm, cell_sizes, dmeans = geostats.declus(df,'X','Y','Perm',iminmax = 1, noff= 10, ncell=100,cmin=10,cmax=2000)\n",
    "df['Wts_perm'] = wts_perm# add weights to the sample data DataFrame\n",
    "print(\"\\ndeclustering AI:\")\n",
    "wts_AI, cell_sizes, dmeans = geostats.declus(df,'X','Y','AI',iminmax = 1, noff= 10, ncell=100,cmin=10,cmax=2000)\n",
    "df['Wts_AI'] = wts_AI                        # add weights to the sample data DataFrame\n",
    "\n",
    "df.describe()                                  # preview to check the sample data DataFrame"
   ]
  },
  {
   "cell_type": "code",
   "execution_count": 9,
   "metadata": {},
   "outputs": [
    {
     "name": "stdout",
     "output_type": "stream",
     "text": [
      "Porosity naive mean is 0.154.\n",
      "Porosity declustered mean is 0.149.\n",
      "Correction of 0.035.\n",
      "\n",
      "Summary statistics of the declsutering weights:\n",
      "DescribeResult(nobs=168, minmax=(0.44057085453928546, 6.7184347826086945), mean=1.0, variance=0.4187743992154122, skewness=4.848628429613621, kurtosis=35.863175048959604)\n"
     ]
    },
    {
     "data": {
      "image/png": "[encoded data removed]",
      "text/plain": [
       "<Figure size 432x288 with 5 Axes>"
      ]
     },
     "metadata": {
      "needs_background": "light"
     },
     "output_type": "display_data"
    }
   ],
   "source": [
    "plt.subplot(221)\n",
    "GSLIB.locmap_st(df,'X','Y','Wts_porosity',xmin,xmax,ymin,ymax,0.0,2.0,'Declustering Weights for porosity','X (m)','Y (m)','Weights',cmap)\n",
    "\n",
    "plt.subplot(222)\n",
    "GSLIB.hist_st(df['Wts_porosity'],0.5,3.5,log=False,cumul=False,bins=20,weights=None,xlabel=\"Weights\",title=\"Declustering Weights for porosity\")\n",
    "plt.ylim(0.0,60)\n",
    "\n",
    "plt.subplot(223)\n",
    "GSLIB.hist_st(df['Porosity'],0.05,0.25,log=False,cumul=False,bins=20,weights=None,xlabel=\"Porosity\",title=\"Naive Porosity\")\n",
    "plt.ylim(0.0,60)\n",
    "\n",
    "plt.subplot(224)\n",
    "GSLIB.hist_st(df['Porosity'],0.05,0.25,log=False,cumul=False,bins=20,weights=df['Wts_porosity'],xlabel=\"Porosity\",title=\"Declustered Porosity\")\n",
    "plt.ylim(0.0,60)\n",
    "\n",
    "por_mean = np.average(df['Porosity'].values)\n",
    "por_dmean = np.average(df['Porosity'].values,weights=df['Wts_porosity'].values)\n",
    "\n",
    "print('Porosity naive mean is ' + str(round(por_mean,3))+'.')\n",
    "print('Porosity declustered mean is ' + str(round(por_dmean,3))+'.')\n",
    "cor = (por_mean-por_dmean)/por_mean\n",
    "print('Correction of ' + str(round(cor,4)) +'.')\n",
    "\n",
    "print('\\nSummary statistics of the declsutering weights:')\n",
    "print(stats.describe(wts_porosity))\n",
    "\n",
    "plt.subplots_adjust(left=0.0, bottom=0.0, right=2.0, top=2.5, wspace=0.2, hspace=0.2)\n",
    "plt.show()"
   ]
  },
  {
   "cell_type": "code",
   "execution_count": 11,
   "metadata": {},
   "outputs": [
    {
     "name": "stdout",
     "output_type": "stream",
     "text": [
      "Perm naive mean is 77.404.\n",
      "Perm declustered mean is 62.868.\n",
      "Correction of 0.1878.\n",
      "\n",
      "Summary statistics of the declustering weights:\n",
      "DescribeResult(nobs=168, minmax=(0.5067275493932278, 4.12042328042328), mean=0.9999999999999997, variance=0.37145951364983404, skewness=2.3689998464278452, kurtosis=6.369098392224354)\n"
     ]
    },
    {
     "data": {
      "image/png": "[encoded data removed]",
      "text/plain": [
       "<Figure size 432x288 with 5 Axes>"
      ]
     },
     "metadata": {
      "needs_background": "light"
     },
     "output_type": "display_data"
    }
   ],
   "source": [
    "plt.subplot(221)\n",
    "GSLIB.locmap_st(df,'X','Y','Wts_perm',xmin,xmax,ymin,ymax,0.0,2.0,'Declustering Weights for perm','X (m)','Y (m)','Weights',cmap)\n",
    "\n",
    "plt.subplot(222)\n",
    "GSLIB.hist_st(df['Wts_perm'],0.5,3.5,log=False,cumul=False,bins=20,weights=None,xlabel=\"Weights\",title=\"Declustering Weights for perm\")\n",
    "plt.ylim(0.0,60)\n",
    "\n",
    "plt.subplot(223)\n",
    "GSLIB.hist_st(df['Perm'],0.01,1000,log=False,cumul=False,bins=20,weights=None,xlabel=\"Perm\",title=\"Naive Perm\")\n",
    "plt.ylim(0.0,150)\n",
    "\n",
    "plt.subplot(224)\n",
    "GSLIB.hist_st(df['Perm'],0.01,1000,log=False,cumul=False,bins=20,weights=df['Wts_perm'],xlabel=\"Perm\",title=\"Declustered Perm\")\n",
    "plt.ylim(0.0,150)\n",
    "\n",
    "perm_mean = np.average(df['Perm'].values)\n",
    "perm_dmean = np.average(df['Perm'].values,weights=df['Wts_perm'].values)\n",
    "\n",
    "print('Perm naive mean is ' + str(round(perm_mean,3))+'.')\n",
    "print('Perm declustered mean is ' + str(round(perm_dmean,3))+'.')\n",
    "cor = (perm_mean-perm_dmean)/perm_mean\n",
    "print('Correction of ' + str(round(cor,4)) +'.')\n",
    "\n",
    "print('\\nSummary statistics of the declustering weights:')\n",
    "print(stats.describe(wts_perm))\n",
    "\n",
    "plt.subplots_adjust(left=0.0, bottom=0.0, right=2.0, top=2.5, wspace=0.2, hspace=0.2)\n",
    "plt.show()"
   ]
  },
  {
   "cell_type": "markdown",
   "metadata": {},
   "source": [
    "### Calculate declustered porosity and permeability and separate by facies"
   ]
  },
  {
   "cell_type": "code",
   "execution_count": 31,
   "metadata": {},
   "outputs": [],
   "source": [
    "df['Perm_declus']=(df['Perm'].values)*(df['Wts_perm'].values)\n",
    "df['Porosity_declus']=(df['Porosity'].values)*(df['Wts_porosity'].values)"
   ]
  },
  {
   "cell_type": "code",
   "execution_count": 36,
   "metadata": {},
   "outputs": [
    {
     "name": "stdout",
     "output_type": "stream",
     "text": [
      "   Unnamed: 0     X      Y  Facies  Porosity        Perm           AI  \\\n",
      "0           3  70.0  720.0     0.0  0.122222    4.429608  3742.749607   \n",
      "1           5  70.0  580.0     1.0  0.179878   24.693697  3658.744772   \n",
      "2           7  70.0  440.0     0.0  0.105756    7.599281  3455.798301   \n",
      "3           8  70.0  370.0     1.0  0.170508  329.655289  3318.756765   \n",
      "4           9  70.0  300.0     0.0  0.126346   10.619642  4039.457362   \n",
      "\n",
      "   Wts_porosity  Wts_perm    Wts_AI  Perm_declus  Porosity_declus  \n",
      "0      1.260282  1.630396  1.005988     7.222017         0.154034  \n",
      "1      1.310366  0.890396  1.005988    21.987178         0.235706  \n",
      "2      0.798074  0.853552  1.005988     6.486380         0.084401  \n",
      "3      0.785574  0.877768  1.005988   289.360860         0.133946  \n",
      "4      0.858074  1.110217  1.005988    11.790105         0.108415  \n"
     ]
    }
   ],
   "source": [
    "print(df.iloc[0:5,:])                   # display first 4 samples in the table as a preview\n",
    "df.head(n=13)                           # we could also use this command for a table preview\n",
    "df.to_csv('declustered_data.csv')\n",
    "df_0=df.loc[(df['Facies'] == 0.0)] \n",
    "df_1=df.loc[(df['Facies'] == 1.0)]"
   ]
  },
  {
   "cell_type": "code",
   "execution_count": 33,
   "metadata": {},
   "outputs": [
    {
     "data": {
      "text/html": [
       "<div>\n",
       "<style scoped>\n",
       "    .dataframe tbody tr th:only-of-type {\n",
       "        vertical-align: middle;\n",
       "    }\n",
       "\n",
       "    .dataframe tbody tr th {\n",
       "        vertical-align: top;\n",
       "    }\n",
       "\n",
       "    .dataframe thead th {\n",
       "        text-align: right;\n",
       "    }\n",
       "</style>\n",
       "<table border=\"1\" class=\"dataframe\">\n",
       "  <thead>\n",
       "    <tr style=\"text-align: right;\">\n",
       "      <th></th>\n",
       "      <th>Unnamed: 0</th>\n",
       "      <th>X</th>\n",
       "      <th>Y</th>\n",
       "      <th>Facies</th>\n",
       "      <th>Porosity</th>\n",
       "      <th>Perm</th>\n",
       "      <th>AI</th>\n",
       "      <th>Wts_porosity</th>\n",
       "      <th>Wts_perm</th>\n",
       "      <th>Wts_AI</th>\n",
       "      <th>Perm_declus</th>\n",
       "      <th>Porosity_declus</th>\n",
       "    </tr>\n",
       "  </thead>\n",
       "  <tbody>\n",
       "    <tr>\n",
       "      <th>count</th>\n",
       "      <td>168.000000</td>\n",
       "      <td>168.000000</td>\n",
       "      <td>168.00000</td>\n",
       "      <td>168.000000</td>\n",
       "      <td>168.000000</td>\n",
       "      <td>168.000000</td>\n",
       "      <td>168.000000</td>\n",
       "      <td>168.000000</td>\n",
       "      <td>168.000000</td>\n",
       "      <td>168.000000</td>\n",
       "      <td>168.000000</td>\n",
       "      <td>168.000000</td>\n",
       "    </tr>\n",
       "    <tr>\n",
       "      <th>mean</th>\n",
       "      <td>207.767857</td>\n",
       "      <td>514.345238</td>\n",
       "      <td>465.87500</td>\n",
       "      <td>0.666667</td>\n",
       "      <td>0.153916</td>\n",
       "      <td>77.403572</td>\n",
       "      <td>3396.279944</td>\n",
       "      <td>1.000000</td>\n",
       "      <td>1.000000</td>\n",
       "      <td>1.000000</td>\n",
       "      <td>62.868121</td>\n",
       "      <td>0.148536</td>\n",
       "    </tr>\n",
       "    <tr>\n",
       "      <th>std</th>\n",
       "      <td>114.277788</td>\n",
       "      <td>290.006483</td>\n",
       "      <td>286.99991</td>\n",
       "      <td>0.472814</td>\n",
       "      <td>0.034007</td>\n",
       "      <td>202.949762</td>\n",
       "      <td>748.991891</td>\n",
       "      <td>0.647128</td>\n",
       "      <td>0.609475</td>\n",
       "      <td>0.049482</td>\n",
       "      <td>166.560660</td>\n",
       "      <td>0.088469</td>\n",
       "    </tr>\n",
       "    <tr>\n",
       "      <th>min</th>\n",
       "      <td>3.000000</td>\n",
       "      <td>0.000000</td>\n",
       "      <td>20.00000</td>\n",
       "      <td>0.000000</td>\n",
       "      <td>0.080884</td>\n",
       "      <td>0.046707</td>\n",
       "      <td>1189.857907</td>\n",
       "      <td>0.440571</td>\n",
       "      <td>0.506728</td>\n",
       "      <td>0.553293</td>\n",
       "      <td>0.069407</td>\n",
       "      <td>0.057774</td>\n",
       "    </tr>\n",
       "    <tr>\n",
       "      <th>25%</th>\n",
       "      <td>104.000000</td>\n",
       "      <td>260.000000</td>\n",
       "      <td>209.00000</td>\n",
       "      <td>0.000000</td>\n",
       "      <td>0.130374</td>\n",
       "      <td>2.889615</td>\n",
       "      <td>2923.281779</td>\n",
       "      <td>0.653528</td>\n",
       "      <td>0.635996</td>\n",
       "      <td>1.005988</td>\n",
       "      <td>2.579100</td>\n",
       "      <td>0.099211</td>\n",
       "    </tr>\n",
       "    <tr>\n",
       "      <th>50%</th>\n",
       "      <td>216.500000</td>\n",
       "      <td>490.000000</td>\n",
       "      <td>439.50000</td>\n",
       "      <td>1.000000</td>\n",
       "      <td>0.150119</td>\n",
       "      <td>12.088688</td>\n",
       "      <td>3456.145034</td>\n",
       "      <td>0.830125</td>\n",
       "      <td>0.771369</td>\n",
       "      <td>1.005988</td>\n",
       "      <td>10.637943</td>\n",
       "      <td>0.123226</td>\n",
       "    </tr>\n",
       "    <tr>\n",
       "      <th>75%</th>\n",
       "      <td>306.750000</td>\n",
       "      <td>780.000000</td>\n",
       "      <td>729.00000</td>\n",
       "      <td>1.000000</td>\n",
       "      <td>0.177243</td>\n",
       "      <td>65.522793</td>\n",
       "      <td>3957.836990</td>\n",
       "      <td>1.127196</td>\n",
       "      <td>1.110217</td>\n",
       "      <td>1.005988</td>\n",
       "      <td>58.030568</td>\n",
       "      <td>0.165906</td>\n",
       "    </tr>\n",
       "    <tr>\n",
       "      <th>max</th>\n",
       "      <td>381.000000</td>\n",
       "      <td>990.000000</td>\n",
       "      <td>979.00000</td>\n",
       "      <td>1.000000</td>\n",
       "      <td>0.249454</td>\n",
       "      <td>2056.729133</td>\n",
       "      <td>5186.291314</td>\n",
       "      <td>6.718435</td>\n",
       "      <td>4.120423</td>\n",
       "      <td>1.005988</td>\n",
       "      <td>1637.906742</td>\n",
       "      <td>0.916554</td>\n",
       "    </tr>\n",
       "  </tbody>\n",
       "</table>\n",
       "</div>"
      ],
      "text/plain": [
       "       Unnamed: 0           X          Y      Facies    Porosity         Perm  \\\n",
       "count  168.000000  168.000000  168.00000  168.000000  168.000000   168.000000   \n",
       "mean   207.767857  514.345238  465.87500    0.666667    0.153916    77.403572   \n",
       "std    114.277788  290.006483  286.99991    0.472814    0.034007   202.949762   \n",
       "min      3.000000    0.000000   20.00000    0.000000    0.080884     0.046707   \n",
       "25%    104.000000  260.000000  209.00000    0.000000    0.130374     2.889615   \n",
       "50%    216.500000  490.000000  439.50000    1.000000    0.150119    12.088688   \n",
       "75%    306.750000  780.000000  729.00000    1.000000    0.177243    65.522793   \n",
       "max    381.000000  990.000000  979.00000    1.000000    0.249454  2056.729133   \n",
       "\n",
       "                AI  Wts_porosity    Wts_perm      Wts_AI  Perm_declus  \\\n",
       "count   168.000000    168.000000  168.000000  168.000000   168.000000   \n",
       "mean   3396.279944      1.000000    1.000000    1.000000    62.868121   \n",
       "std     748.991891      0.647128    0.609475    0.049482   166.560660   \n",
       "min    1189.857907      0.440571    0.506728    0.553293     0.069407   \n",
       "25%    2923.281779      0.653528    0.635996    1.005988     2.579100   \n",
       "50%    3456.145034      0.830125    0.771369    1.005988    10.637943   \n",
       "75%    3957.836990      1.127196    1.110217    1.005988    58.030568   \n",
       "max    5186.291314      6.718435    4.120423    1.005988  1637.906742   \n",
       "\n",
       "       Porosity_declus  \n",
       "count       168.000000  \n",
       "mean          0.148536  \n",
       "std           0.088469  \n",
       "min           0.057774  \n",
       "25%           0.099211  \n",
       "50%           0.123226  \n",
       "75%           0.165906  \n",
       "max           0.916554  "
      ]
     },
     "execution_count": 33,
     "metadata": {},
     "output_type": "execute_result"
    }
   ],
   "source": [
    "df.describe()"
   ]
  },
  {
   "cell_type": "markdown",
   "metadata": {},
   "source": [
    "# 3. Uncertainty Model using Bootstrapping"
   ]
  },
  {
   "cell_type": "code",
   "execution_count": 49,
   "metadata": {},
   "outputs": [],
   "source": [
    "def bootstrap(L,value,weights,length,variable):\n",
    "    L = 1000                                   # set the number of realizations\n",
    "    mean = np.zeros(L); stdev = np.zeros(L)    # declare arrays to hold the realizations of the statistics\n",
    "    for l in range(0, L):                      # loop over realizations\n",
    "        samples = random.choices(value, weights=weights, cum_weights=None, k=length)\n",
    "        mean[l] = np.average(samples)\n",
    "        stdev[l] = np.std(samples)\n",
    "        \n",
    "    print('Summary Statistics for Bootstrap '+ variable + ' Mean Realizations:')\n",
    "    print(stats.describe(mean))\n",
    "    print('P10 ' + str(round(np.percentile(mean,10),3)) + ', P50 ' + str(round(np.percentile(mean,50),3)) + ', P90 ' + str(round(np.percentile(mean,90),3))) \n",
    "\n",
    "    print('\\nSummary Statistics for Bootstrap '+ variable + ' Standard Deviation Realizations:')\n",
    "    print(stats.describe(stdev))\n",
    "    print('P10 ' + str(round(np.percentile(stdev,10),3)) + ', P50 ' + str(round(np.percentile(stdev,50),3)) + ', P90 ' + str(round(np.percentile(stdev,90),3))) \n",
    "    return np.mean(mean),np.std(stdev)\n",
    "\n",
    "L=1000"
   ]
  },
  {
   "cell_type": "code",
   "execution_count": 54,
   "metadata": {},
   "outputs": [
    {
     "name": "stdout",
     "output_type": "stream",
     "text": [
      "Summary Statistics for Bootstrap Facies 0 Porosity Mean Realizations:\n",
      "DescribeResult(nobs=1000, minmax=(0.1194878763054035, 0.14187223814133068), mean=0.1300643866360233, variance=9.94685134979193e-06, skewness=0.18342101663418992, kurtosis=0.2395229592154089)\n",
      "P10 0.126, P50 0.13, P90 0.134\n",
      "\n",
      "Summary Statistics for Bootstrap Facies 0 Porosity Standard Deviation Realizations:\n",
      "DescribeResult(nobs=1000, minmax=(0.015455238212918854, 0.031322613838560186), mean=0.023138997345699373, variance=6.879029183968777e-06, skewness=0.01422660066249461, kurtosis=-0.2507771153743441)\n",
      "P10 0.02, P50 0.023, P90 0.026\n"
     ]
    }
   ],
   "source": [
    "mean_porosity_facies0,std_porosity_facies0=bootstrap(L,df_0['Porosity'].values,df_0['Wts_porosity'].values,len(df_0),'Facies 0 Porosity')"
   ]
  },
  {
   "cell_type": "code",
   "execution_count": 55,
   "metadata": {},
   "outputs": [
    {
     "name": "stdout",
     "output_type": "stream",
     "text": [
      "Summary Statistics for Bootstrap Facies 1 Porosity Mean Realizations:\n",
      "DescribeResult(nobs=1000, minmax=(0.1503070803817747, 0.1687038078180356), mean=0.15972802090044905, variance=8.990026833890524e-06, skewness=-0.1699034567524044, kurtosis=0.01650604337045447)\n",
      "P10 0.156, P50 0.16, P90 0.164\n",
      "\n",
      "Summary Statistics for Bootstrap Facies 1 Porosity Standard Deviation Realizations:\n",
      "DescribeResult(nobs=1000, minmax=(0.02541694028447137, 0.03822849442716315), mean=0.03168686932592681, variance=4.34669156624526e-06, skewness=0.008624972284639083, kurtosis=-0.058876361501100316)\n",
      "P10 0.029, P50 0.032, P90 0.034\n"
     ]
    }
   ],
   "source": [
    "mean_porosity_facies1,std_porosity_facies1=bootstrap(L,df_1['Porosity'].values,df_1['Wts_porosity'].values,len(df_1),'Facies 1 Porosity')"
   ]
  },
  {
   "cell_type": "code",
   "execution_count": 56,
   "metadata": {},
   "outputs": [
    {
     "name": "stdout",
     "output_type": "stream",
     "text": [
      "Summary Statistics for Bootstrap Facies 0 Perm Mean Realizations:\n",
      "DescribeResult(nobs=1000, minmax=(3.559933229120395, 26.877164992361223), mean=11.222734973510889, variance=16.245063515079156, skewness=0.7363640080739912, kurtosis=0.5805826946398733)\n",
      "P10 6.433, P50 10.741, P90 16.565\n",
      "\n",
      "Summary Statistics for Bootstrap Facies 0 Perm Standard Deviation Realizations:\n",
      "DescribeResult(nobs=1000, minmax=(4.1537816572956485, 57.14851004809077), mean=28.357815160408347, variance=126.66658913036106, skewness=-0.20987822654622715, kurtosis=-0.541347204502991)\n",
      "P10 9.968, P50 28.172, P90 42.065\n"
     ]
    }
   ],
   "source": [
    "mean_perm_facies0,std_perm_facies0=bootstrap(L,df_0['Perm'].values,df_0['Wts_perm'].values,len(df_0),'Facies 0 Perm')"
   ]
  },
  {
   "cell_type": "code",
   "execution_count": 57,
   "metadata": {},
   "outputs": [
    {
     "name": "stdout",
     "output_type": "stream",
     "text": [
      "Summary Statistics for Bootstrap Facies 1 Perm Mean Realizations:\n",
      "DescribeResult(nobs=1000, minmax=(45.29919365782674, 206.37700476395815), mean=98.07905248256742, variance=500.8148031859413, skewness=0.6830348611544685, kurtosis=0.838157130810798)\n",
      "P10 72.452, P50 94.895, P90 128.022\n",
      "\n",
      "Summary Statistics for Bootstrap Facies 1 Perm Standard Deviation Realizations:\n",
      "DescribeResult(nobs=1000, minmax=(65.8903407666724, 476.3449649616494), mean=217.05215652626234, variance=5087.6875768864775, skewness=0.29189211886312527, kurtosis=-0.46430025687614007)\n",
      "P10 127.518, P50 226.342, P90 307.731\n"
     ]
    }
   ],
   "source": [
    "mean_perm_facies1,std_perm_facies1=bootstrap(L,df_1['Perm'].values,df_1['Wts_perm'].values,len(df_1),'Facies 1 Perm')"
   ]
  },
  {
   "cell_type": "code",
   "execution_count": 59,
   "metadata": {},
   "outputs": [
    {
     "name": "stdout",
     "output_type": "stream",
     "text": [
      "Summary Statistics for Bootstrap Facies 1 Proportion Mean Realizations:\n",
      "DescribeResult(nobs=1000, minmax=(0.5119047619047619, 0.7380952380952381), mean=0.622125, variance=0.0014078602057272693, skewness=0.011366464575758014, kurtosis=-0.08177509057090049)\n",
      "P10 0.571, P50 0.619, P90 0.673\n",
      "\n",
      "Summary Statistics for Bootstrap Facies 1 Proportion Standard Deviation Realizations:\n",
      "DescribeResult(nobs=1000, minmax=(0.43967107887189016, 0.49985825655278615), mean=0.48330432705476417, variance=9.605553515515056e-05, skewness=-0.9312843288574107, kurtosis=1.0274819552806136)\n",
      "P10 0.469, P50 0.486, P90 0.495\n"
     ]
    }
   ],
   "source": [
    "mean_facies1_proportion,std_facies1_proportion=bootstrap(L,df['Facies'].values,df['Wts_porosity'].values,len(df),'Facies 1 Proportion')"
   ]
  },
  {
   "cell_type": "markdown",
   "metadata": {},
   "source": [
    "For oil in place (OIP), assuming a reservoir size of 1000m by 1000m. OIP= Area * Thickness * Oil saturation * Average porosity"
   ]
  },
  {
   "cell_type": "code",
   "execution_count": 60,
   "metadata": {},
   "outputs": [
    {
     "name": "stdout",
     "output_type": "stream",
     "text": [
      "Summary Statistics for Bootstrap Reservoir Porosity Mean Realizations:\n",
      "DescribeResult(nobs=1000, minmax=(0.14195148478093456, 0.15683858024196598), mean=0.1485880129894563, variance=6.471338472387992e-06, skewness=0.11462719672364315, kurtosis=-0.0785228651588814)\n",
      "P10 0.145, P50 0.149, P90 0.152\n",
      "\n",
      "Summary Statistics for Bootstrap Reservoir Porosity Standard Deviation Realizations:\n",
      "DescribeResult(nobs=1000, minmax=(0.026001193035431174, 0.03764283789030354), mean=0.03225169980939149, variance=2.819101545775932e-06, skewness=-0.010082897408558712, kurtosis=0.23429967110229288)\n",
      "P10 0.03, P50 0.032, P90 0.034\n"
     ]
    }
   ],
   "source": [
    "area=10**6\n",
    "thickness=20\n",
    "oil_saturation=0.9\n",
    "\n",
    "mean_porosity_reservoir,std_porosity_reservoir=bootstrap(L,df['Porosity'].values,df['Wts_porosity'].values,len(df),'Reservoir Porosity')"
   ]
  },
  {
   "cell_type": "code",
   "execution_count": 62,
   "metadata": {},
   "outputs": [
    {
     "name": "stdout",
     "output_type": "stream",
     "text": [
      "The estimated average reservoir OIP is 16.823 million barrels\n",
      "The estimated standard deviation of reservoir OIP is 0.19 million barrels\n"
     ]
    }
   ],
   "source": [
    "print('The estimated average reservoir OIP is ' + str(round(mean_porosity_reservoir*area*thickness*oil_saturation*6.29/10**6,3)) \n",
    "      + ' million barrels')\n",
    "print('The estimated standard deviation of reservoir OIP is ' + str(round(std_porosity_reservoir*area*thickness*oil_saturation*6.29/10**6,3)) \n",
    "      + ' million barrels')"
   ]
  },
  {
   "cell_type": "markdown",
   "metadata": {},
   "source": [
    "# 4. Impact of another 10 wells\n",
    "\n",
    "To estimate this, another 10 samples are added to the dataset. \n",
    "To do this, 10 random samples are selected from the original dataset. Then the X and Y coordinates are shifted by 50.5 (if one coordinate exceeds 1000 then the coordinate is reduced by 50.5 instead). By shifting a non-integer value, this ensures that new sample's coordinates do not coincide with the coordinates in the original dataset\n",
    "\n",
    "Then declustering and bootstrapping is performed again to observe the difference in the uncertainty models."
   ]
  },
  {
   "cell_type": "code",
   "execution_count": 71,
   "metadata": {},
   "outputs": [
    {
     "name": "stdout",
     "output_type": "stream",
     "text": [
      "[87, 144, 157, 113, 117, 50, 161, 40, 118, 156]\n"
     ]
    }
   ],
   "source": [
    "index=random.sample(range(len(df)), 10)\n",
    "print(index)"
   ]
  },
  {
   "cell_type": "code",
   "execution_count": 93,
   "metadata": {},
   "outputs": [],
   "source": [
    "df_new=df\n",
    "\n",
    "for i in range(len(index)):  \n",
    "    df_new=df_new.append(df.iloc[index[i]],ignore_index=True)\n",
    "    if (df_new.at[len(df_new)-1,'X']+50.5) <1000: \n",
    "        df_new.at[len(df_new)-1,'X']=df_new.at[len(df_new)-1,'X']+50.5\n",
    "    else:\n",
    "        df_new.at[len(df_new)-1,'X']=df_new.at[len(df_new)-1,'X']-50.5\n",
    "        \n",
    "    if (df_new.at[len(df_new)-1,'Y']+50.5) <1000:\n",
    "        df_new.at[len(df_new)-1,'Y']=df_new.at[len(df_new)-1,'Y']+50.5\n",
    "    else:\n",
    "        df_new.at[len(df_new)-1,'Y']=df_new.at[len(df_new)-1,'Y']-50.5\n"
   ]
  },
  {
   "cell_type": "code",
   "execution_count": 94,
   "metadata": {},
   "outputs": [
    {
     "data": {
      "text/html": [
       "<div>\n",
       "<style scoped>\n",
       "    .dataframe tbody tr th:only-of-type {\n",
       "        vertical-align: middle;\n",
       "    }\n",
       "\n",
       "    .dataframe tbody tr th {\n",
       "        vertical-align: top;\n",
       "    }\n",
       "\n",
       "    .dataframe thead th {\n",
       "        text-align: right;\n",
       "    }\n",
       "</style>\n",
       "<table border=\"1\" class=\"dataframe\">\n",
       "  <thead>\n",
       "    <tr style=\"text-align: right;\">\n",
       "      <th></th>\n",
       "      <th>Unnamed: 0</th>\n",
       "      <th>X</th>\n",
       "      <th>Y</th>\n",
       "      <th>Facies</th>\n",
       "      <th>Porosity</th>\n",
       "      <th>Perm</th>\n",
       "      <th>AI</th>\n",
       "      <th>Wts_porosity</th>\n",
       "      <th>Wts_perm</th>\n",
       "      <th>Wts_AI</th>\n",
       "      <th>Perm_declus</th>\n",
       "      <th>Porosity_declus</th>\n",
       "    </tr>\n",
       "  </thead>\n",
       "  <tbody>\n",
       "    <tr>\n",
       "      <th>count</th>\n",
       "      <td>178.000000</td>\n",
       "      <td>178.000000</td>\n",
       "      <td>178.000000</td>\n",
       "      <td>178.000000</td>\n",
       "      <td>178.000000</td>\n",
       "      <td>178.000000</td>\n",
       "      <td>178.000000</td>\n",
       "      <td>178.000000</td>\n",
       "      <td>178.000000</td>\n",
       "      <td>178.000000</td>\n",
       "      <td>178.000000</td>\n",
       "      <td>178.000000</td>\n",
       "    </tr>\n",
       "    <tr>\n",
       "      <th>mean</th>\n",
       "      <td>211.724719</td>\n",
       "      <td>512.775281</td>\n",
       "      <td>468.393258</td>\n",
       "      <td>0.662921</td>\n",
       "      <td>0.153658</td>\n",
       "      <td>77.097375</td>\n",
       "      <td>3401.501238</td>\n",
       "      <td>0.991705</td>\n",
       "      <td>0.990786</td>\n",
       "      <td>1.000336</td>\n",
       "      <td>61.989120</td>\n",
       "      <td>0.147338</td>\n",
       "    </tr>\n",
       "    <tr>\n",
       "      <th>std</th>\n",
       "      <td>114.313611</td>\n",
       "      <td>288.215545</td>\n",
       "      <td>285.911032</td>\n",
       "      <td>0.474045</td>\n",
       "      <td>0.033758</td>\n",
       "      <td>199.637145</td>\n",
       "      <td>733.587121</td>\n",
       "      <td>0.633391</td>\n",
       "      <td>0.597770</td>\n",
       "      <td>0.048084</td>\n",
       "      <td>163.101687</td>\n",
       "      <td>0.087000</td>\n",
       "    </tr>\n",
       "    <tr>\n",
       "      <th>min</th>\n",
       "      <td>3.000000</td>\n",
       "      <td>0.000000</td>\n",
       "      <td>20.000000</td>\n",
       "      <td>0.000000</td>\n",
       "      <td>0.080884</td>\n",
       "      <td>0.046707</td>\n",
       "      <td>1189.857907</td>\n",
       "      <td>0.440571</td>\n",
       "      <td>0.506728</td>\n",
       "      <td>0.553293</td>\n",
       "      <td>0.069407</td>\n",
       "      <td>0.057774</td>\n",
       "    </tr>\n",
       "    <tr>\n",
       "      <th>25%</th>\n",
       "      <td>109.250000</td>\n",
       "      <td>265.000000</td>\n",
       "      <td>219.125000</td>\n",
       "      <td>0.000000</td>\n",
       "      <td>0.130600</td>\n",
       "      <td>2.826961</td>\n",
       "      <td>2943.742717</td>\n",
       "      <td>0.654874</td>\n",
       "      <td>0.638670</td>\n",
       "      <td>1.005988</td>\n",
       "      <td>2.534563</td>\n",
       "      <td>0.099211</td>\n",
       "    </tr>\n",
       "    <tr>\n",
       "      <th>50%</th>\n",
       "      <td>223.000000</td>\n",
       "      <td>490.000000</td>\n",
       "      <td>439.500000</td>\n",
       "      <td>1.000000</td>\n",
       "      <td>0.151084</td>\n",
       "      <td>11.441250</td>\n",
       "      <td>3460.512417</td>\n",
       "      <td>0.830125</td>\n",
       "      <td>0.766880</td>\n",
       "      <td>1.005988</td>\n",
       "      <td>9.671348</td>\n",
       "      <td>0.121290</td>\n",
       "    </tr>\n",
       "    <tr>\n",
       "      <th>75%</th>\n",
       "      <td>314.250000</td>\n",
       "      <td>777.500000</td>\n",
       "      <td>729.000000</td>\n",
       "      <td>1.000000</td>\n",
       "      <td>0.176290</td>\n",
       "      <td>62.356636</td>\n",
       "      <td>3936.531303</td>\n",
       "      <td>1.125920</td>\n",
       "      <td>1.097919</td>\n",
       "      <td>1.005988</td>\n",
       "      <td>57.619112</td>\n",
       "      <td>0.165603</td>\n",
       "    </tr>\n",
       "    <tr>\n",
       "      <th>max</th>\n",
       "      <td>381.000000</td>\n",
       "      <td>990.000000</td>\n",
       "      <td>979.000000</td>\n",
       "      <td>1.000000</td>\n",
       "      <td>0.249454</td>\n",
       "      <td>2056.729133</td>\n",
       "      <td>5186.291314</td>\n",
       "      <td>6.718435</td>\n",
       "      <td>4.120423</td>\n",
       "      <td>1.005988</td>\n",
       "      <td>1637.906742</td>\n",
       "      <td>0.916554</td>\n",
       "    </tr>\n",
       "  </tbody>\n",
       "</table>\n",
       "</div>"
      ],
      "text/plain": [
       "       Unnamed: 0           X           Y      Facies    Porosity  \\\n",
       "count  178.000000  178.000000  178.000000  178.000000  178.000000   \n",
       "mean   211.724719  512.775281  468.393258    0.662921    0.153658   \n",
       "std    114.313611  288.215545  285.911032    0.474045    0.033758   \n",
       "min      3.000000    0.000000   20.000000    0.000000    0.080884   \n",
       "25%    109.250000  265.000000  219.125000    0.000000    0.130600   \n",
       "50%    223.000000  490.000000  439.500000    1.000000    0.151084   \n",
       "75%    314.250000  777.500000  729.000000    1.000000    0.176290   \n",
       "max    381.000000  990.000000  979.000000    1.000000    0.249454   \n",
       "\n",
       "              Perm           AI  Wts_porosity    Wts_perm      Wts_AI  \\\n",
       "count   178.000000   178.000000    178.000000  178.000000  178.000000   \n",
       "mean     77.097375  3401.501238      0.991705    0.990786    1.000336   \n",
       "std     199.637145   733.587121      0.633391    0.597770    0.048084   \n",
       "min       0.046707  1189.857907      0.440571    0.506728    0.553293   \n",
       "25%       2.826961  2943.742717      0.654874    0.638670    1.005988   \n",
       "50%      11.441250  3460.512417      0.830125    0.766880    1.005988   \n",
       "75%      62.356636  3936.531303      1.125920    1.097919    1.005988   \n",
       "max    2056.729133  5186.291314      6.718435    4.120423    1.005988   \n",
       "\n",
       "       Perm_declus  Porosity_declus  \n",
       "count   178.000000       178.000000  \n",
       "mean     61.989120         0.147338  \n",
       "std     163.101687         0.087000  \n",
       "min       0.069407         0.057774  \n",
       "25%       2.534563         0.099211  \n",
       "50%       9.671348         0.121290  \n",
       "75%      57.619112         0.165603  \n",
       "max    1637.906742         0.916554  "
      ]
     },
     "execution_count": 94,
     "metadata": {},
     "output_type": "execute_result"
    }
   ],
   "source": [
    "df_new.describe()"
   ]
  },
  {
   "cell_type": "code",
   "execution_count": 95,
   "metadata": {},
   "outputs": [
    {
     "name": "stdout",
     "output_type": "stream",
     "text": [
      "declustering porosity:\n",
      "There are 178 data with:\n",
      "   mean of      0.15365785798482187 \n",
      "   min and max  0.0808837694350806 and 0.2494536799448483\n",
      "   standard dev 0.033662746973282434 \n",
      "\n",
      "declustering permeability:\n",
      "There are 178 data with:\n",
      "   mean of      77.09737450202377 \n",
      "   min and max  0.046707210006564456 and 2056.7291327432786\n",
      "   standard dev 199.07557662863906 \n",
      "\n",
      "declustering AI:\n",
      "There are 178 data with:\n",
      "   mean of      3401.501238454504 \n",
      "   min and max  1189.8579070757687 and 5186.2913136919315\n",
      "   standard dev 731.5235810483119 \n"
     ]
    }
   ],
   "source": [
    "print(\"declustering porosity:\")\n",
    "wts_porosity_new, cell_sizes, dmeans = geostats.declus(df_new,'X','Y','Porosity',iminmax = 1, noff= 10, ncell=100,cmin=10,cmax=2000)\n",
    "df_new['Wts_porosity'] = wts_porosity_new # add weights to the sample data DataFrame\n",
    "print(\"\\ndeclustering permeability:\")\n",
    "wts_perm_new, cell_sizes, dmeans = geostats.declus(df_new,'X','Y','Perm',iminmax = 1, noff= 10, ncell=100,cmin=10,cmax=2000)\n",
    "df_new['Wts_perm'] = wts_perm_new# add weights to the sample data DataFrame\n",
    "print(\"\\ndeclustering AI:\")\n",
    "wts_AI_new, cell_sizes, dmeans = geostats.declus(df_new,'X','Y','AI',iminmax = 1, noff= 10, ncell=100,cmin=10,cmax=2000)\n",
    "df_new['Wts_AI'] = wts_AI_new                        # add weights to the sample data DataFrame\n",
    "\n",
    "df_new['Perm_declus']=(df_new['Perm'].values)*(df_new['Wts_perm'].values)\n",
    "df_new['Porosity_declus']=(df_new['Porosity'].values)*(df_new['Wts_porosity'].values)\n",
    "df_new_0=df_new.loc[(df_new['Facies'] == 0.0)] \n",
    "df_new_1=df_new.loc[(df_new['Facies'] == 1.0)]"
   ]
  },
  {
   "cell_type": "code",
   "execution_count": 103,
   "metadata": {},
   "outputs": [
    {
     "name": "stdout",
     "output_type": "stream",
     "text": [
      "Summary Statistics for Bootstrap Facies 0 Porosity Mean Realizations:\n",
      "DescribeResult(nobs=1000, minmax=(0.12090843390200101, 0.14123140035879947), mean=0.1301773709018897, variance=9.261229062856473e-06, skewness=0.19515890521237586, kurtosis=0.04014481245680113)\n",
      "P10 0.127, P50 0.13, P90 0.134\n",
      "\n",
      "Summary Statistics for Bootstrap Facies 0 Porosity Standard Deviation Realizations:\n",
      "DescribeResult(nobs=1000, minmax=(0.015479765421280685, 0.0329153544906506), mean=0.022846955607438053, variance=6.226132594651572e-06, skewness=-0.03728109008073168, kurtosis=0.23604245504868882)\n",
      "P10 0.02, P50 0.023, P90 0.026\n",
      "\n",
      "mean porosity value for facies 0 changed from 0.130064 to 0.130177\n",
      "\n",
      "standard deviation for porosity value for facies 0 changed from 0.002621 to 0.002494\n"
     ]
    }
   ],
   "source": [
    "mean_porosity_facies0_new,std_porosity_facies0_new=bootstrap(L,df_new_0['Porosity'].values,df_new_0['Wts_porosity'].values,len(df_0),'Facies 0 Porosity')\n",
    "\n",
    "print(\"\\nmean porosity value for facies 0 changed from \" + str(round(mean_porosity_facies0,6)) + \" to \" + str(round(mean_porosity_facies0_new,6)))\n",
    "\n",
    "print(\"\\nstandard deviation for porosity value for facies 0 changed from \" + str(round(std_porosity_facies0,6)) + \" to \" + str(round(std_porosity_facies0_new,6)))"
   ]
  },
  {
   "cell_type": "code",
   "execution_count": 104,
   "metadata": {},
   "outputs": [
    {
     "name": "stdout",
     "output_type": "stream",
     "text": [
      "Summary Statistics for Bootstrap Facies 1 Porosity Mean Realizations:\n",
      "DescribeResult(nobs=1000, minmax=(0.1501198842009346, 0.16892818071480545), mean=0.15965694883107637, variance=9.093298888385739e-06, skewness=0.05842808299802829, kurtosis=-0.11510561300083122)\n",
      "P10 0.156, P50 0.16, P90 0.163\n",
      "\n",
      "Summary Statistics for Bootstrap Facies 1 Porosity Standard Deviation Realizations:\n",
      "DescribeResult(nobs=1000, minmax=(0.025075391328413948, 0.03968166206589331), mean=0.031759489107675634, variance=4.517411404455968e-06, skewness=0.03858950308337922, kurtosis=0.17911886286040124)\n",
      "P10 0.029, P50 0.032, P90 0.034\n",
      "\n",
      "mean porosity value for facies 1 changed from 0.159728 to 0.159657\n",
      "\n",
      "standard deviation for porosity value for facies 1 changed from 0.002084 to 0.002124\n"
     ]
    }
   ],
   "source": [
    "mean_porosity_facies1_new,std_porosity_facies1_new=bootstrap(L,df_new_1['Porosity'].values,df_new_1['Wts_porosity'].values,len(df_1),'Facies 1 Porosity')\n",
    "\n",
    "print(\"\\nmean porosity value for facies 1 changed from \" + str(round(mean_porosity_facies1,6)) + \" to \" + str(round(mean_porosity_facies1_new,6)))\n",
    "\n",
    "print(\"\\nstandard deviation for porosity value for facies 1 changed from \" + str(round(std_porosity_facies1,6)) + \" to \" + str(round(std_porosity_facies1_new,6)))"
   ]
  },
  {
   "cell_type": "code",
   "execution_count": 105,
   "metadata": {},
   "outputs": [
    {
     "name": "stdout",
     "output_type": "stream",
     "text": [
      "Summary Statistics for Bootstrap Facies 1 Porosity Mean Realizations:\n",
      "DescribeResult(nobs=1000, minmax=(0.1474217911165229, 0.17020937913071568), mean=0.1596552489819136, variance=1.032388966957367e-05, skewness=0.04924235553155654, kurtosis=0.1972563670853651)\n",
      "P10 0.156, P50 0.16, P90 0.164\n",
      "\n",
      "Summary Statistics for Bootstrap Facies 1 Porosity Standard Deviation Realizations:\n",
      "DescribeResult(nobs=1000, minmax=(0.025041668337821926, 0.03724987703413641), mean=0.03168598978398675, variance=4.43516903897176e-06, skewness=-0.053952004129316306, kurtosis=-0.1430229062198154)\n",
      "P10 0.029, P50 0.032, P90 0.034\n",
      "\n",
      "mean porosity value for facies 1 changed from 0.159728 to 0.159655\n",
      "\n",
      "standard deviation for porosity value for facies 1 changed from 0.002084 to 0.002105\n"
     ]
    }
   ],
   "source": [
    "mean_porosity_facies1_new,std_porosity_facies1_new=bootstrap(L,df_new_1['Porosity'].values,df_new_1['Wts_porosity'].values,len(df_1),'Facies 1 Porosity')\n",
    "\n",
    "print(\"\\nmean porosity value for facies 1 changed from \" + str(round(mean_porosity_facies1,6)) + \" to \" + str(round(mean_porosity_facies1_new,6)))\n",
    "\n",
    "print(\"\\nstandard deviation for porosity value for facies 1 changed from \" + str(round(std_porosity_facies1,6)) + \" to \" + str(round(std_porosity_facies1_new,6)))"
   ]
  },
  {
   "cell_type": "code",
   "execution_count": 107,
   "metadata": {},
   "outputs": [
    {
     "name": "stdout",
     "output_type": "stream",
     "text": [
      "Summary Statistics for Bootstrap Facies 0 Perm Mean Realizations:\n",
      "DescribeResult(nobs=1000, minmax=(2.727423352201694, 25.360611293522222), mean=10.5023434174154, variance=14.90641958432929, skewness=0.5119051638707556, kurtosis=-0.017099475507933892)\n",
      "P10 5.6, P50 10.108, P90 15.748\n",
      "\n",
      "Summary Statistics for Bootstrap Facies 0 Perm Standard Deviation Realizations:\n",
      "DescribeResult(nobs=1000, minmax=(3.0077020134593617, 56.97385122172849), mean=26.70666180460847, variance=131.50262382151124, skewness=-0.2284278606489841, kurtosis=-0.7635337497642909)\n",
      "P10 8.879, P50 26.45, P90 41.921\n",
      "\n",
      "mean perm value for facies 0 changed from 11.222735 to 10.502343\n",
      "\n",
      "standard deviation for perm value for facies 0 changed from 11.248997 to 11.461724\n"
     ]
    }
   ],
   "source": [
    "mean_perm_facies0_new,std_perm_facies0_new=bootstrap(L,df_new_0['Perm'].values,df_new_0['Wts_perm'].values,len(df_0),'Facies 0 Perm')\n",
    "\n",
    "print(\"\\nmean perm value for facies 0 changed from \" + str(round(mean_perm_facies0,6)) + \" to \" + str(round(mean_perm_facies0_new,6)))\n",
    "\n",
    "print(\"\\nstandard deviation for perm value for facies 0 changed from \" + str(round(std_perm_facies0,6)) + \" to \" + str(round(std_perm_facies0_new,6)))"
   ]
  },
  {
   "cell_type": "code",
   "execution_count": 106,
   "metadata": {},
   "outputs": [
    {
     "name": "stdout",
     "output_type": "stream",
     "text": [
      "Summary Statistics for Bootstrap Facies 1 Perm Mean Realizations:\n",
      "DescribeResult(nobs=1000, minmax=(44.01115649952043, 180.33011013160598), mean=100.03732921541442, variance=468.13720356482577, skewness=0.5062435879992685, kurtosis=0.24578122923114876)\n",
      "P10 74.084, P50 97.72, P90 128.261\n",
      "\n",
      "Summary Statistics for Bootstrap Facies 1 Perm Standard Deviation Realizations:\n",
      "DescribeResult(nobs=1000, minmax=(77.3096419467907, 440.551676177828), mean=215.14297927565244, variance=4871.487508950239, skewness=0.32895078312820347, kurtosis=-0.6223786209446902)\n",
      "P10 129.886, P50 223.652, P90 303.97\n",
      "\n",
      "mean perm value for facies 1 changed from 98.079052 to 100.037329\n",
      "\n",
      "standard deviation for perm value for facies 1 changed from 71.292355 to 69.761135\n"
     ]
    }
   ],
   "source": [
    "mean_perm_facies1_new,std_perm_facies1_new=bootstrap(L,df_new_1['Perm'].values,df_new_1['Wts_perm'].values,len(df_1),'Facies 1 Perm')\n",
    "\n",
    "print(\"\\nmean perm value for facies 1 changed from \" + str(round(mean_perm_facies1,6)) + \" to \" + str(round(mean_perm_facies1_new,6)))\n",
    "\n",
    "print(\"\\nstandard deviation for perm value for facies 1 changed from \" + str(round(std_perm_facies1,6)) + \" to \" + str(round(std_perm_facies1_new,6)))"
   ]
  },
  {
   "cell_type": "markdown",
   "metadata": {},
   "source": [
    "# 5. Significance testing"
   ]
  },
  {
   "cell_type": "code",
   "execution_count": 37,
   "metadata": {},
   "outputs": [
    {
     "name": "stdout",
     "output_type": "stream",
     "text": [
      "0.03190555295133376 0.023514092547994\n",
      "229.21448795842207 30.621280989234535\n"
     ]
    }
   ],
   "source": [
    "def weighted_avg_and_std(values, weights): # function to calculate weighted mean and st. dev., from Eric O Lebigot, stack overflow,\n",
    "    average = np.average(values, weights=weights)\n",
    "    variance = np.average((values-average)**2, weights=weights)\n",
    "    return (average, math.sqrt(variance))\n",
    "\n",
    "facies1_por_avg_declus,facies1_por_std_declus=weighted_avg_and_std(df_1['Porosity'], df_1['Wts_porosity'])\n",
    "facies1_perm_avg_declus,facies1_perm_std_declus=weighted_avg_and_std(df_1['Perm'], df_1['Wts_perm'])\n",
    "facies0_por_avg_declus,facies0_por_std_declus=weighted_avg_and_std(df_0['Porosity'], df_0['Wts_porosity'])\n",
    "facies0_perm_avg_declus,facies0_perm_std_declus=weighted_avg_and_std(df_0['Perm'], df_0['Wts_perm'])\n",
    "print(facies1_por_std_declus,facies0_por_std_declus)\n",
    "print(facies1_perm_std_declus,facies0_perm_std_declus)"
   ]
  },
  {
   "cell_type": "code",
   "execution_count": 15,
   "metadata": {},
   "outputs": [],
   "source": [
    "def t_test(avg1,avg2,n1,n2,s1,s2,alpha):\n",
    "    denominator=math.sqrt((1/n1+1/n2)*((n1-1)*s1**2+(n2-1)*s2**2)/(n1+n2-2))\n",
    "    t_pooled=math.fabs(avg1-avg2)/denominator\n",
    "    t_critical = stats.t.ppf([alpha/2,1-alpha/2], df=n1+n2-2)\n",
    "    if t_pooled>t_critical[1]: #reject null\n",
    "        print('pooled t is {0:.2f}, critical t is {1:.2f}, the null is rejected, facies have different means'.format(t_pooled,t_critical[1]))\n",
    "    else: #accept null\n",
    "        print('pooled t is {0:.2f}, critical t is {1:.2f}, the null is accepted'.format(t_pooled,t_critical[1]))"
   ]
  },
  {
   "cell_type": "code",
   "execution_count": 38,
   "metadata": {},
   "outputs": [
    {
     "name": "stdout",
     "output_type": "stream",
     "text": [
      "testing null hypothesis: two facies have same average porosity\n",
      "pooled t is 6.16, critical t is 1.97, the null is rejected, facies have different means\n"
     ]
    }
   ],
   "source": [
    "print(\"testing null hypothesis: two facies have same average porosity\")\n",
    "t_test(facies1_por_avg_declus,facies0_por_avg_declus,len(df_1),len(df_0),facies1_por_std_declus,facies0_por_std_declus,0.05)"
   ]
  },
  {
   "cell_type": "code",
   "execution_count": 39,
   "metadata": {},
   "outputs": [
    {
     "name": "stdout",
     "output_type": "stream",
     "text": [
      "testing null hypothesis: two facies have same average permeability\n",
      "pooled t is 2.81, critical t is 1.97, the null is rejected, facies have different means\n"
     ]
    }
   ],
   "source": [
    "print(\"testing null hypothesis: two facies have same average permeability\")\n",
    "t_test(facies1_perm_avg_declus,facies0_perm_avg_declus,len(df_1),len(df_0),facies1_perm_std_declus,facies0_perm_std_declus,0.05)"
   ]
  },
  {
   "cell_type": "code",
   "execution_count": 20,
   "metadata": {},
   "outputs": [],
   "source": [
    "def f_test(n1,n2,s1,s2,alpha):\n",
    "    f_pooled=s1**2/s2**2\n",
    "    f_critical = stats.f.ppf(1-alpha, n1-1,n2-1)\n",
    "    if f_pooled>f_critical: #reject null\n",
    "        print('pooled f is {0:.2f}, critical f is {1:.2f}, the null is rejected, facies have different variance'.format(f_pooled,f_critical))\n",
    "    else: #accept null\n",
    "        print('pooled f is {0:.2f}, critical f is {1:.2f}, the null is accepted'.format(f_pooled,f_critical))"
   ]
  },
  {
   "cell_type": "code",
   "execution_count": 40,
   "metadata": {},
   "outputs": [
    {
     "name": "stdout",
     "output_type": "stream",
     "text": [
      "testing null hypothesis: two facies have same porosity variance\n",
      "pooled f is 1.84, critical f is 1.49, the null is rejected, facies have different variance\n"
     ]
    }
   ],
   "source": [
    "print(\"testing null hypothesis: two facies have same porosity variance\")\n",
    "f_test(len(df_1),len(df_0),facies1_por_std_declus,facies0_por_std_declus,0.05)"
   ]
  },
  {
   "cell_type": "code",
   "execution_count": 41,
   "metadata": {},
   "outputs": [
    {
     "name": "stdout",
     "output_type": "stream",
     "text": [
      "testing null hypothesis: two facies have same permeability variance\n",
      "pooled f is 56.03, critical f is 1.49, the null is rejected, facies have different variance\n"
     ]
    }
   ],
   "source": [
    "print(\"testing null hypothesis: two facies have same permeability variance\")\n",
    "f_test(len(df_1),len(df_0),facies1_perm_std_declus,facies0_perm_std_declus,0.05)"
   ]
  },
  {
   "cell_type": "markdown",
   "metadata": {},
   "source": [
    "### Significance testing suggest that  facies 1 and 2 have different means and variance on both porosity and permeability"
   ]
  },
  {
   "cell_type": "markdown",
   "metadata": {},
   "source": [
    "# 6. Heterogeneity\n",
    "\n",
    "In heterogeneity calculation, declusterd porosity and permeability are used."
   ]
  },
  {
   "cell_type": "markdown",
   "metadata": {},
   "source": [
    "### Coefficient of variation"
   ]
  },
  {
   "cell_type": "code",
   "execution_count": 42,
   "metadata": {},
   "outputs": [
    {
     "name": "stdout",
     "output_type": "stream",
     "text": [
      "coefficient of variation for facies 0 is : 2.74\n",
      "coefficient of variation for facies 1 is : 2.34\n"
     ]
    }
   ],
   "source": [
    "cov_facies0=facies0_perm_std_declus/facies0_perm_avg_declus\n",
    "print('coefficient of variation for facies 0 is : {0:.2f}'.format(cov_facies0))\n",
    "\n",
    "\n",
    "cov_facies1=facies1_perm_std_declus/facies1_perm_avg_declus\n",
    "print('coefficient of variation for facies 1 is : {0:.2f}'.format(cov_facies1))"
   ]
  },
  {
   "cell_type": "markdown",
   "metadata": {},
   "source": [
    "### Dykstra-Parsons coefficient"
   ]
  },
  {
   "cell_type": "code",
   "execution_count": 43,
   "metadata": {},
   "outputs": [
    {
     "name": "stdout",
     "output_type": "stream",
     "text": [
      "Dykstra-Parsons coefficient for facies 0 is : 0.92\n",
      "Dykstra-Parsons coefficient for facies1 is : 0.93\n"
     ]
    }
   ],
   "source": [
    "k50_facies0,k16_facies0=np.percentile(df_0['Perm_declus'].values,[50,16])\n",
    "vdp_facies0=(k50_facies0-k16_facies0)/k50_facies0\n",
    "print('Dykstra-Parsons coefficient for facies 0 is : {0:.2f}'.format(vdp_facies0))\n",
    "\n",
    "k50_facies1,k16_facies1=np.percentile(df_1['Perm_declus'].values,[50,16])\n",
    "vdp_facies1=(k50_facies1-k16_facies1)/k50_facies1\n",
    "print('Dykstra-Parsons coefficient for facies1 is : {0:.2f}'.format(vdp_facies1))"
   ]
  },
  {
   "cell_type": "markdown",
   "metadata": {},
   "source": [
    "### Lorenz coefficient is calculated in the Excel spreadsheet. The Lorenz coefficient for facies 1 is 0.753. The Lorenz coefficient for facies 0 is 0.783. Both indicate very heterogeneous reservoir. \n",
    "\n",
    "### All three criteria indicate the reservoir is very heterogeneous. "
   ]
  }
 ],
 "metadata": {
  "kernelspec": {
   "display_name": "geostats",
   "language": "python",
   "name": "geostats"
  },
  "language_info": {
   "codemirror_mode": {
    "name": "ipython",
    "version": 3
   },
   "file_extension": ".py",
   "mimetype": "text/x-python",
   "name": "python",
   "nbconvert_exporter": "python",
   "pygments_lexer": "ipython3",
   "version": "3.6.7"
  }
 },
 "nbformat": 4,
 "nbformat_minor": 2
}
